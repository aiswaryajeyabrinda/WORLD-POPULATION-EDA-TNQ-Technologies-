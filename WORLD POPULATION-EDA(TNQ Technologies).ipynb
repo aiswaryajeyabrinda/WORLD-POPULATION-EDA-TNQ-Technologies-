{
 "cells": [
  {
   "cell_type": "markdown",
   "id": "7c150372",
   "metadata": {},
   "source": [
    "# Importing Libraries"
   ]
  },
  {
   "cell_type": "code",
   "execution_count": 21,
   "id": "64cf4620",
   "metadata": {},
   "outputs": [],
   "source": [
    "import pandas as pd\n",
    "import numpy as np\n",
    "import matplotlib.pyplot as plt\n",
    "import seaborn as sns"
   ]
  },
  {
   "cell_type": "markdown",
   "id": "aa6cf435",
   "metadata": {},
   "source": [
    "# Importing Libraries"
   ]
  },
  {
   "cell_type": "code",
   "execution_count": 9,
   "id": "1717daed",
   "metadata": {},
   "outputs": [],
   "source": [
    "data = pd.read_csv(\"C:/Users/senth/Downloads/world_population.csv\")"
   ]
  },
  {
   "cell_type": "code",
   "execution_count": 10,
   "id": "3ff00974",
   "metadata": {},
   "outputs": [
    {
     "data": {
      "text/html": [
       "<div>\n",
       "<style scoped>\n",
       "    .dataframe tbody tr th:only-of-type {\n",
       "        vertical-align: middle;\n",
       "    }\n",
       "\n",
       "    .dataframe tbody tr th {\n",
       "        vertical-align: top;\n",
       "    }\n",
       "\n",
       "    .dataframe thead th {\n",
       "        text-align: right;\n",
       "    }\n",
       "</style>\n",
       "<table border=\"1\" class=\"dataframe\">\n",
       "  <thead>\n",
       "    <tr style=\"text-align: right;\">\n",
       "      <th></th>\n",
       "      <th>Rank</th>\n",
       "      <th>CCA3</th>\n",
       "      <th>Country</th>\n",
       "      <th>Capital</th>\n",
       "      <th>Continent</th>\n",
       "      <th>2022 Population</th>\n",
       "      <th>2020 Population</th>\n",
       "      <th>2015 Population</th>\n",
       "      <th>2010 Population</th>\n",
       "      <th>2000 Population</th>\n",
       "      <th>1990 Population</th>\n",
       "      <th>1980 Population</th>\n",
       "      <th>1970 Population</th>\n",
       "      <th>Area (km²)</th>\n",
       "      <th>Density (per km²)</th>\n",
       "      <th>Growth Rate</th>\n",
       "      <th>World Population Percentage</th>\n",
       "    </tr>\n",
       "  </thead>\n",
       "  <tbody>\n",
       "    <tr>\n",
       "      <th>0</th>\n",
       "      <td>36</td>\n",
       "      <td>AFG</td>\n",
       "      <td>Afghanistan</td>\n",
       "      <td>Kabul</td>\n",
       "      <td>Asia</td>\n",
       "      <td>41128771</td>\n",
       "      <td>38972230</td>\n",
       "      <td>33753499</td>\n",
       "      <td>28189672</td>\n",
       "      <td>19542982</td>\n",
       "      <td>10694796</td>\n",
       "      <td>12486631</td>\n",
       "      <td>10752971</td>\n",
       "      <td>652230</td>\n",
       "      <td>63.0587</td>\n",
       "      <td>1.0257</td>\n",
       "      <td>0.52</td>\n",
       "    </tr>\n",
       "    <tr>\n",
       "      <th>1</th>\n",
       "      <td>138</td>\n",
       "      <td>ALB</td>\n",
       "      <td>Albania</td>\n",
       "      <td>Tirana</td>\n",
       "      <td>Europe</td>\n",
       "      <td>2842321</td>\n",
       "      <td>2866849</td>\n",
       "      <td>2882481</td>\n",
       "      <td>2913399</td>\n",
       "      <td>3182021</td>\n",
       "      <td>3295066</td>\n",
       "      <td>2941651</td>\n",
       "      <td>2324731</td>\n",
       "      <td>28748</td>\n",
       "      <td>98.8702</td>\n",
       "      <td>0.9957</td>\n",
       "      <td>0.04</td>\n",
       "    </tr>\n",
       "    <tr>\n",
       "      <th>2</th>\n",
       "      <td>34</td>\n",
       "      <td>DZA</td>\n",
       "      <td>Algeria</td>\n",
       "      <td>Algiers</td>\n",
       "      <td>Africa</td>\n",
       "      <td>44903225</td>\n",
       "      <td>43451666</td>\n",
       "      <td>39543154</td>\n",
       "      <td>35856344</td>\n",
       "      <td>30774621</td>\n",
       "      <td>25518074</td>\n",
       "      <td>18739378</td>\n",
       "      <td>13795915</td>\n",
       "      <td>2381741</td>\n",
       "      <td>18.8531</td>\n",
       "      <td>1.0164</td>\n",
       "      <td>0.56</td>\n",
       "    </tr>\n",
       "    <tr>\n",
       "      <th>3</th>\n",
       "      <td>213</td>\n",
       "      <td>ASM</td>\n",
       "      <td>American Samoa</td>\n",
       "      <td>Pago Pago</td>\n",
       "      <td>Oceania</td>\n",
       "      <td>44273</td>\n",
       "      <td>46189</td>\n",
       "      <td>51368</td>\n",
       "      <td>54849</td>\n",
       "      <td>58230</td>\n",
       "      <td>47818</td>\n",
       "      <td>32886</td>\n",
       "      <td>27075</td>\n",
       "      <td>199</td>\n",
       "      <td>222.4774</td>\n",
       "      <td>0.9831</td>\n",
       "      <td>0.00</td>\n",
       "    </tr>\n",
       "    <tr>\n",
       "      <th>4</th>\n",
       "      <td>203</td>\n",
       "      <td>AND</td>\n",
       "      <td>Andorra</td>\n",
       "      <td>Andorra la Vella</td>\n",
       "      <td>Europe</td>\n",
       "      <td>79824</td>\n",
       "      <td>77700</td>\n",
       "      <td>71746</td>\n",
       "      <td>71519</td>\n",
       "      <td>66097</td>\n",
       "      <td>53569</td>\n",
       "      <td>35611</td>\n",
       "      <td>19860</td>\n",
       "      <td>468</td>\n",
       "      <td>170.5641</td>\n",
       "      <td>1.0100</td>\n",
       "      <td>0.00</td>\n",
       "    </tr>\n",
       "  </tbody>\n",
       "</table>\n",
       "</div>"
      ],
      "text/plain": [
       "   Rank CCA3         Country           Capital Continent  2022 Population  \\\n",
       "0    36  AFG     Afghanistan             Kabul      Asia         41128771   \n",
       "1   138  ALB         Albania            Tirana    Europe          2842321   \n",
       "2    34  DZA         Algeria           Algiers    Africa         44903225   \n",
       "3   213  ASM  American Samoa         Pago Pago   Oceania            44273   \n",
       "4   203  AND         Andorra  Andorra la Vella    Europe            79824   \n",
       "\n",
       "   2020 Population  2015 Population  2010 Population  2000 Population  \\\n",
       "0         38972230         33753499         28189672         19542982   \n",
       "1          2866849          2882481          2913399          3182021   \n",
       "2         43451666         39543154         35856344         30774621   \n",
       "3            46189            51368            54849            58230   \n",
       "4            77700            71746            71519            66097   \n",
       "\n",
       "   1990 Population  1980 Population  1970 Population  Area (km²)  \\\n",
       "0         10694796         12486631         10752971      652230   \n",
       "1          3295066          2941651          2324731       28748   \n",
       "2         25518074         18739378         13795915     2381741   \n",
       "3            47818            32886            27075         199   \n",
       "4            53569            35611            19860         468   \n",
       "\n",
       "   Density (per km²)  Growth Rate  World Population Percentage  \n",
       "0            63.0587       1.0257                         0.52  \n",
       "1            98.8702       0.9957                         0.04  \n",
       "2            18.8531       1.0164                         0.56  \n",
       "3           222.4774       0.9831                         0.00  \n",
       "4           170.5641       1.0100                         0.00  "
      ]
     },
     "execution_count": 10,
     "metadata": {},
     "output_type": "execute_result"
    }
   ],
   "source": [
    "data.head()"
   ]
  },
  {
   "cell_type": "code",
   "execution_count": 11,
   "id": "aebed0e8",
   "metadata": {},
   "outputs": [
    {
     "data": {
      "text/plain": [
       "(234, 17)"
      ]
     },
     "execution_count": 11,
     "metadata": {},
     "output_type": "execute_result"
    }
   ],
   "source": [
    "data.shape"
   ]
  },
  {
   "cell_type": "code",
   "execution_count": 12,
   "id": "b105fe06",
   "metadata": {},
   "outputs": [
    {
     "name": "stdout",
     "output_type": "stream",
     "text": [
      "<class 'pandas.core.frame.DataFrame'>\n",
      "RangeIndex: 234 entries, 0 to 233\n",
      "Data columns (total 17 columns):\n",
      " #   Column                       Non-Null Count  Dtype  \n",
      "---  ------                       --------------  -----  \n",
      " 0   Rank                         234 non-null    int64  \n",
      " 1   CCA3                         234 non-null    object \n",
      " 2   Country                      234 non-null    object \n",
      " 3   Capital                      234 non-null    object \n",
      " 4   Continent                    234 non-null    object \n",
      " 5   2022 Population              234 non-null    int64  \n",
      " 6   2020 Population              234 non-null    int64  \n",
      " 7   2015 Population              234 non-null    int64  \n",
      " 8   2010 Population              234 non-null    int64  \n",
      " 9   2000 Population              234 non-null    int64  \n",
      " 10  1990 Population              234 non-null    int64  \n",
      " 11  1980 Population              234 non-null    int64  \n",
      " 12  1970 Population              234 non-null    int64  \n",
      " 13  Area (km²)                   234 non-null    int64  \n",
      " 14  Density (per km²)            234 non-null    float64\n",
      " 15  Growth Rate                  234 non-null    float64\n",
      " 16  World Population Percentage  234 non-null    float64\n",
      "dtypes: float64(3), int64(10), object(4)\n",
      "memory usage: 31.2+ KB\n"
     ]
    }
   ],
   "source": [
    "data.info()"
   ]
  },
  {
   "cell_type": "code",
   "execution_count": 13,
   "id": "a1268fae",
   "metadata": {},
   "outputs": [
    {
     "data": {
      "text/plain": [
       "Rank                           234\n",
       "CCA3                           234\n",
       "Country                        234\n",
       "Capital                        234\n",
       "Continent                        6\n",
       "2022 Population                234\n",
       "2020 Population                234\n",
       "2015 Population                234\n",
       "2010 Population                234\n",
       "2000 Population                234\n",
       "1990 Population                234\n",
       "1980 Population                234\n",
       "1970 Population                234\n",
       "Area (km²)                     233\n",
       "Density (per km²)              234\n",
       "Growth Rate                    180\n",
       "World Population Percentage     70\n",
       "dtype: int64"
      ]
     },
     "execution_count": 13,
     "metadata": {},
     "output_type": "execute_result"
    }
   ],
   "source": [
    "data.nunique()"
   ]
  },
  {
   "cell_type": "markdown",
   "id": "b01a341a",
   "metadata": {},
   "source": [
    "# Exploratory Data Analysis"
   ]
  },
  {
   "cell_type": "markdown",
   "id": "bce4e6bc",
   "metadata": {},
   "source": [
    "Let's begin some exploratory data analysis! Start by checking out missing data!"
   ]
  },
  {
   "cell_type": "code",
   "execution_count": 14,
   "id": "345d94ca",
   "metadata": {},
   "outputs": [
    {
     "data": {
      "text/plain": [
       "Rank                           0\n",
       "CCA3                           0\n",
       "Country                        0\n",
       "Capital                        0\n",
       "Continent                      0\n",
       "2022 Population                0\n",
       "2020 Population                0\n",
       "2015 Population                0\n",
       "2010 Population                0\n",
       "2000 Population                0\n",
       "1990 Population                0\n",
       "1980 Population                0\n",
       "1970 Population                0\n",
       "Area (km²)                     0\n",
       "Density (per km²)              0\n",
       "Growth Rate                    0\n",
       "World Population Percentage    0\n",
       "dtype: int64"
      ]
     },
     "execution_count": 14,
     "metadata": {},
     "output_type": "execute_result"
    }
   ],
   "source": [
    "data.isnull().sum()"
   ]
  },
  {
   "cell_type": "markdown",
   "id": "518aefe1",
   "metadata": {},
   "source": [
    "No Null Values! So, filling is not required"
   ]
  },
  {
   "cell_type": "markdown",
   "id": "31fa6bdb",
   "metadata": {},
   "source": [
    "#### Finding number of countries in a continent "
   ]
  },
  {
   "cell_type": "code",
   "execution_count": 19,
   "id": "ca84ec94",
   "metadata": {},
   "outputs": [
    {
     "data": {
      "text/plain": [
       "Africa           57\n",
       "Asia             50\n",
       "Europe           50\n",
       "North America    40\n",
       "Oceania          23\n",
       "South America    14\n",
       "Name: Continent, dtype: int64"
      ]
     },
     "execution_count": 19,
     "metadata": {},
     "output_type": "execute_result"
    }
   ],
   "source": [
    "data['Continent'].value_counts()"
   ]
  },
  {
   "cell_type": "code",
   "execution_count": 23,
   "id": "3584790f",
   "metadata": {},
   "outputs": [
    {
     "data": {
      "text/plain": [
       "<AxesSubplot:>"
      ]
     },
     "execution_count": 23,
     "metadata": {},
     "output_type": "execute_result"
    },
    {
     "data": {
      "image/png": "[encoded data removed]",
      "text/plain": [
       "<Figure size 432x288 with 1 Axes>"
      ]
     },
     "metadata": {
      "needs_background": "light"
     },
     "output_type": "display_data"
    }
   ],
   "source": [
    "countryList = data[\"Continent\"].value_counts()\n",
    "sns.barplot(x=countryList.index, y=countryList.values)"
   ]
  },
  {
   "cell_type": "markdown",
   "id": "44dc6fa7",
   "metadata": {},
   "source": [
    "#### Finding the population percentage of each continent "
   ]
  },
  {
   "cell_type": "code",
   "execution_count": 24,
   "id": "8fed08e8",
   "metadata": {},
   "outputs": [],
   "source": [
    "PopPercentage = data.groupby('Continent')['World Population Percentage'].sum().round(1).sort_values(ascending= False).reset_index()"
   ]
  },
  {
   "cell_type": "code",
   "execution_count": 25,
   "id": "d0d7444d",
   "metadata": {},
   "outputs": [
    {
     "data": {
      "text/html": [
       "<div>\n",
       "<style scoped>\n",
       "    .dataframe tbody tr th:only-of-type {\n",
       "        vertical-align: middle;\n",
       "    }\n",
       "\n",
       "    .dataframe tbody tr th {\n",
       "        vertical-align: top;\n",
       "    }\n",
       "\n",
       "    .dataframe thead th {\n",
       "        text-align: right;\n",
       "    }\n",
       "</style>\n",
       "<table border=\"1\" class=\"dataframe\">\n",
       "  <thead>\n",
       "    <tr style=\"text-align: right;\">\n",
       "      <th></th>\n",
       "      <th>Continent</th>\n",
       "      <th>World Population Percentage</th>\n",
       "    </tr>\n",
       "  </thead>\n",
       "  <tbody>\n",
       "    <tr>\n",
       "      <th>0</th>\n",
       "      <td>Asia</td>\n",
       "      <td>59.2</td>\n",
       "    </tr>\n",
       "    <tr>\n",
       "      <th>1</th>\n",
       "      <td>Africa</td>\n",
       "      <td>17.9</td>\n",
       "    </tr>\n",
       "    <tr>\n",
       "      <th>2</th>\n",
       "      <td>Europe</td>\n",
       "      <td>9.3</td>\n",
       "    </tr>\n",
       "    <tr>\n",
       "      <th>3</th>\n",
       "      <td>North America</td>\n",
       "      <td>7.5</td>\n",
       "    </tr>\n",
       "    <tr>\n",
       "      <th>4</th>\n",
       "      <td>South America</td>\n",
       "      <td>5.5</td>\n",
       "    </tr>\n",
       "    <tr>\n",
       "      <th>5</th>\n",
       "      <td>Oceania</td>\n",
       "      <td>0.6</td>\n",
       "    </tr>\n",
       "  </tbody>\n",
       "</table>\n",
       "</div>"
      ],
      "text/plain": [
       "       Continent  World Population Percentage\n",
       "0           Asia                         59.2\n",
       "1         Africa                         17.9\n",
       "2         Europe                          9.3\n",
       "3  North America                          7.5\n",
       "4  South America                          5.5\n",
       "5        Oceania                          0.6"
      ]
     },
     "execution_count": 25,
     "metadata": {},
     "output_type": "execute_result"
    }
   ],
   "source": [
    "PopPercentage"
   ]
  },
  {
   "cell_type": "code",
   "execution_count": 28,
   "id": "1542f91e",
   "metadata": {},
   "outputs": [
    {
     "data": {
      "text/plain": [
       "0             Asia\n",
       "1           Africa\n",
       "2           Europe\n",
       "3    North America\n",
       "4    South America\n",
       "5          Oceania\n",
       "Name: Continent, dtype: object"
      ]
     },
     "execution_count": 28,
     "metadata": {},
     "output_type": "execute_result"
    }
   ],
   "source": [
    "label = PopPercentage['Continent']\n",
    "label"
   ]
  },
  {
   "cell_type": "code",
   "execution_count": 30,
   "id": "ed5a5379",
   "metadata": {},
   "outputs": [
    {
     "data": {
      "text/plain": [
       "0    59.2\n",
       "1    17.9\n",
       "2     9.3\n",
       "3     7.5\n",
       "4     5.5\n",
       "5     0.6\n",
       "Name: World Population Percentage, dtype: float64"
      ]
     },
     "execution_count": 30,
     "metadata": {},
     "output_type": "execute_result"
    }
   ],
   "source": [
    "percent = PopPercentage['World Population Percentage']\n",
    "percent"
   ]
  },
  {
   "cell_type": "code",
   "execution_count": 32,
   "id": "12721cb4",
   "metadata": {},
   "outputs": [
    {
     "data": {
      "text/plain": [
       "<AxesSubplot:ylabel='World Population Percentage'>"
      ]
     },
     "execution_count": 32,
     "metadata": {},
     "output_type": "execute_result"
    },
    {
     "data": {
      "image/png": "[encoded data removed]",
      "text/plain": [
       "<Figure size 432x288 with 1 Axes>"
      ]
     },
     "metadata": {},
     "output_type": "display_data"
    }
   ],
   "source": [
    "percent.plot.pie(labels = label, autopct = '%1.2f%%')"
   ]
  },
  {
   "cell_type": "markdown",
   "id": "22af4084",
   "metadata": {},
   "source": [
    "### Comparing the continent population 1970 and 2022"
   ]
  },
  {
   "cell_type": "code",
   "execution_count": 34,
   "id": "f71df38c",
   "metadata": {},
   "outputs": [
    {
     "data": {
      "text/html": [
       "<div>\n",
       "<style scoped>\n",
       "    .dataframe tbody tr th:only-of-type {\n",
       "        vertical-align: middle;\n",
       "    }\n",
       "\n",
       "    .dataframe tbody tr th {\n",
       "        vertical-align: top;\n",
       "    }\n",
       "\n",
       "    .dataframe thead th {\n",
       "        text-align: right;\n",
       "    }\n",
       "</style>\n",
       "<table border=\"1\" class=\"dataframe\">\n",
       "  <thead>\n",
       "    <tr style=\"text-align: right;\">\n",
       "      <th></th>\n",
       "      <th>Continent</th>\n",
       "      <th>1970 Population</th>\n",
       "      <th>2022 Population</th>\n",
       "    </tr>\n",
       "  </thead>\n",
       "  <tbody>\n",
       "    <tr>\n",
       "      <th>0</th>\n",
       "      <td>Africa</td>\n",
       "      <td>365444348</td>\n",
       "      <td>1426730932</td>\n",
       "    </tr>\n",
       "    <tr>\n",
       "      <th>1</th>\n",
       "      <td>Asia</td>\n",
       "      <td>2144906290</td>\n",
       "      <td>4721383274</td>\n",
       "    </tr>\n",
       "    <tr>\n",
       "      <th>2</th>\n",
       "      <td>Europe</td>\n",
       "      <td>655923991</td>\n",
       "      <td>743147538</td>\n",
       "    </tr>\n",
       "    <tr>\n",
       "      <th>3</th>\n",
       "      <td>North America</td>\n",
       "      <td>315434606</td>\n",
       "      <td>600296136</td>\n",
       "    </tr>\n",
       "    <tr>\n",
       "      <th>4</th>\n",
       "      <td>Oceania</td>\n",
       "      <td>19480270</td>\n",
       "      <td>45038554</td>\n",
       "    </tr>\n",
       "    <tr>\n",
       "      <th>5</th>\n",
       "      <td>South America</td>\n",
       "      <td>192947156</td>\n",
       "      <td>436816608</td>\n",
       "    </tr>\n",
       "  </tbody>\n",
       "</table>\n",
       "</div>"
      ],
      "text/plain": [
       "       Continent  1970 Population  2022 Population\n",
       "0         Africa        365444348       1426730932\n",
       "1           Asia       2144906290       4721383274\n",
       "2         Europe        655923991        743147538\n",
       "3  North America        315434606        600296136\n",
       "4        Oceania         19480270         45038554\n",
       "5  South America        192947156        436816608"
      ]
     },
     "execution_count": 34,
     "metadata": {},
     "output_type": "execute_result"
    }
   ],
   "source": [
    "btw = data.groupby('Continent')[['1970 Population','2022 Population']].sum().sort_values(by = 'Continent', ascending= True).reset_index()\n",
    "btw"
   ]
  },
  {
   "cell_type": "code",
   "execution_count": 35,
   "id": "e20e508a",
   "metadata": {},
   "outputs": [
    {
     "data": {
      "text/html": [
       "<div>\n",
       "<style scoped>\n",
       "    .dataframe tbody tr th:only-of-type {\n",
       "        vertical-align: middle;\n",
       "    }\n",
       "\n",
       "    .dataframe tbody tr th {\n",
       "        vertical-align: top;\n",
       "    }\n",
       "\n",
       "    .dataframe thead th {\n",
       "        text-align: right;\n",
       "    }\n",
       "</style>\n",
       "<table border=\"1\" class=\"dataframe\">\n",
       "  <thead>\n",
       "    <tr style=\"text-align: right;\">\n",
       "      <th></th>\n",
       "      <th>Continent</th>\n",
       "      <th>1970 Population</th>\n",
       "      <th>2022 Population</th>\n",
       "      <th>Percentage</th>\n",
       "    </tr>\n",
       "  </thead>\n",
       "  <tbody>\n",
       "    <tr>\n",
       "      <th>0</th>\n",
       "      <td>Africa</td>\n",
       "      <td>365444348</td>\n",
       "      <td>1426730932</td>\n",
       "      <td>25.61</td>\n",
       "    </tr>\n",
       "    <tr>\n",
       "      <th>1</th>\n",
       "      <td>Asia</td>\n",
       "      <td>2144906290</td>\n",
       "      <td>4721383274</td>\n",
       "      <td>45.43</td>\n",
       "    </tr>\n",
       "    <tr>\n",
       "      <th>2</th>\n",
       "      <td>Europe</td>\n",
       "      <td>655923991</td>\n",
       "      <td>743147538</td>\n",
       "      <td>88.26</td>\n",
       "    </tr>\n",
       "    <tr>\n",
       "      <th>3</th>\n",
       "      <td>North America</td>\n",
       "      <td>315434606</td>\n",
       "      <td>600296136</td>\n",
       "      <td>52.55</td>\n",
       "    </tr>\n",
       "    <tr>\n",
       "      <th>4</th>\n",
       "      <td>Oceania</td>\n",
       "      <td>19480270</td>\n",
       "      <td>45038554</td>\n",
       "      <td>43.25</td>\n",
       "    </tr>\n",
       "    <tr>\n",
       "      <th>5</th>\n",
       "      <td>South America</td>\n",
       "      <td>192947156</td>\n",
       "      <td>436816608</td>\n",
       "      <td>44.17</td>\n",
       "    </tr>\n",
       "  </tbody>\n",
       "</table>\n",
       "</div>"
      ],
      "text/plain": [
       "       Continent  1970 Population  2022 Population  Percentage\n",
       "0         Africa        365444348       1426730932       25.61\n",
       "1           Asia       2144906290       4721383274       45.43\n",
       "2         Europe        655923991        743147538       88.26\n",
       "3  North America        315434606        600296136       52.55\n",
       "4        Oceania         19480270         45038554       43.25\n",
       "5  South America        192947156        436816608       44.17"
      ]
     },
     "execution_count": 35,
     "metadata": {},
     "output_type": "execute_result"
    }
   ],
   "source": [
    "btw['Percentage'] = round(btw['1970 Population']/ btw['2022 Population']*100,2)\n",
    "btw"
   ]
  },
  {
   "cell_type": "code",
   "execution_count": 36,
   "id": "de8ec4d0",
   "metadata": {},
   "outputs": [
    {
     "data": {
      "text/plain": [
       "Country\n",
       "China            1425887337\n",
       "India            1417173173\n",
       "United States     338289857\n",
       "Indonesia         275501339\n",
       "Pakistan          235824862\n",
       "Name: 2022 Population, dtype: int64"
      ]
     },
     "execution_count": 36,
     "metadata": {},
     "output_type": "execute_result"
    }
   ],
   "source": [
    "data.groupby('Country')['2022 Population'].sum().sort_values(ascending=False).head()"
   ]
  },
  {
   "cell_type": "markdown",
   "id": "1296ac1e",
   "metadata": {},
   "source": [
    "## Highest Population"
   ]
  },
  {
   "cell_type": "code",
   "execution_count": 37,
   "id": "0b1d87c2",
   "metadata": {},
   "outputs": [
    {
     "data": {
      "text/html": [
       "<div>\n",
       "<style scoped>\n",
       "    .dataframe tbody tr th:only-of-type {\n",
       "        vertical-align: middle;\n",
       "    }\n",
       "\n",
       "    .dataframe tbody tr th {\n",
       "        vertical-align: top;\n",
       "    }\n",
       "\n",
       "    .dataframe thead th {\n",
       "        text-align: right;\n",
       "    }\n",
       "</style>\n",
       "<table border=\"1\" class=\"dataframe\">\n",
       "  <thead>\n",
       "    <tr style=\"text-align: right;\">\n",
       "      <th></th>\n",
       "      <th>index</th>\n",
       "      <th>Country</th>\n",
       "      <th>2022 Population</th>\n",
       "    </tr>\n",
       "  </thead>\n",
       "  <tbody>\n",
       "    <tr>\n",
       "      <th>0</th>\n",
       "      <td>41</td>\n",
       "      <td>China</td>\n",
       "      <td>1425887337</td>\n",
       "    </tr>\n",
       "    <tr>\n",
       "      <th>1</th>\n",
       "      <td>92</td>\n",
       "      <td>India</td>\n",
       "      <td>1417173173</td>\n",
       "    </tr>\n",
       "    <tr>\n",
       "      <th>2</th>\n",
       "      <td>221</td>\n",
       "      <td>United States</td>\n",
       "      <td>338289857</td>\n",
       "    </tr>\n",
       "    <tr>\n",
       "      <th>3</th>\n",
       "      <td>93</td>\n",
       "      <td>Indonesia</td>\n",
       "      <td>275501339</td>\n",
       "    </tr>\n",
       "    <tr>\n",
       "      <th>4</th>\n",
       "      <td>156</td>\n",
       "      <td>Pakistan</td>\n",
       "      <td>235824862</td>\n",
       "    </tr>\n",
       "  </tbody>\n",
       "</table>\n",
       "</div>"
      ],
      "text/plain": [
       "   index        Country  2022 Population\n",
       "0     41          China       1425887337\n",
       "1     92          India       1417173173\n",
       "2    221  United States        338289857\n",
       "3     93      Indonesia        275501339\n",
       "4    156       Pakistan        235824862"
      ]
     },
     "execution_count": 37,
     "metadata": {},
     "output_type": "execute_result"
    }
   ],
   "source": [
    "highPop = data[['Country','2022 Population']].sort_values(by = '2022 Population', ascending = False).head().reset_index()\n",
    "highPop"
   ]
  },
  {
   "cell_type": "markdown",
   "id": "e995b126",
   "metadata": {},
   "source": [
    "## Least Population "
   ]
  },
  {
   "cell_type": "code",
   "execution_count": 38,
   "id": "e5886dc3",
   "metadata": {},
   "outputs": [
    {
     "data": {
      "text/html": [
       "<div>\n",
       "<style scoped>\n",
       "    .dataframe tbody tr th:only-of-type {\n",
       "        vertical-align: middle;\n",
       "    }\n",
       "\n",
       "    .dataframe tbody tr th {\n",
       "        vertical-align: top;\n",
       "    }\n",
       "\n",
       "    .dataframe thead th {\n",
       "        text-align: right;\n",
       "    }\n",
       "</style>\n",
       "<table border=\"1\" class=\"dataframe\">\n",
       "  <thead>\n",
       "    <tr style=\"text-align: right;\">\n",
       "      <th></th>\n",
       "      <th>index</th>\n",
       "      <th>Country</th>\n",
       "      <th>2022 Population</th>\n",
       "    </tr>\n",
       "  </thead>\n",
       "  <tbody>\n",
       "    <tr>\n",
       "      <th>0</th>\n",
       "      <td>226</td>\n",
       "      <td>Vatican City</td>\n",
       "      <td>510</td>\n",
       "    </tr>\n",
       "    <tr>\n",
       "      <th>1</th>\n",
       "      <td>209</td>\n",
       "      <td>Tokelau</td>\n",
       "      <td>1871</td>\n",
       "    </tr>\n",
       "    <tr>\n",
       "      <th>2</th>\n",
       "      <td>150</td>\n",
       "      <td>Niue</td>\n",
       "      <td>1934</td>\n",
       "    </tr>\n",
       "    <tr>\n",
       "      <th>3</th>\n",
       "      <td>64</td>\n",
       "      <td>Falkland Islands</td>\n",
       "      <td>3780</td>\n",
       "    </tr>\n",
       "    <tr>\n",
       "      <th>4</th>\n",
       "      <td>137</td>\n",
       "      <td>Montserrat</td>\n",
       "      <td>4390</td>\n",
       "    </tr>\n",
       "  </tbody>\n",
       "</table>\n",
       "</div>"
      ],
      "text/plain": [
       "   index           Country  2022 Population\n",
       "0    226      Vatican City              510\n",
       "1    209           Tokelau             1871\n",
       "2    150              Niue             1934\n",
       "3     64  Falkland Islands             3780\n",
       "4    137        Montserrat             4390"
      ]
     },
     "execution_count": 38,
     "metadata": {},
     "output_type": "execute_result"
    }
   ],
   "source": [
    "leastPop = data[['Country','2022 Population']].sort_values(by = '2022 Population', ascending = True).head().reset_index()\n",
    "leastPop"
   ]
  },
  {
   "cell_type": "markdown",
   "id": "ab893a8f",
   "metadata": {},
   "source": [
    "### Top 5 Countries from the continent "
   ]
  },
  {
   "cell_type": "code",
   "execution_count": 39,
   "id": "6870517f",
   "metadata": {},
   "outputs": [],
   "source": [
    "def topFive(Continent):\n",
    "    cont = data[data['Continent'] == Continent]\n",
    "    return cont.groupby('Country')['2022 Population'].sum().sort_values(ascending = False).head()"
   ]
  },
  {
   "cell_type": "code",
   "execution_count": 40,
   "id": "8cdf7bec",
   "metadata": {},
   "outputs": [
    {
     "data": {
      "text/plain": [
       "Country\n",
       "China         1425887337\n",
       "India         1417173173\n",
       "Indonesia      275501339\n",
       "Pakistan       235824862\n",
       "Bangladesh     171186372\n",
       "Name: 2022 Population, dtype: int64"
      ]
     },
     "execution_count": 40,
     "metadata": {},
     "output_type": "execute_result"
    }
   ],
   "source": [
    "topFive('Asia')"
   ]
  },
  {
   "cell_type": "code",
   "execution_count": 41,
   "id": "ad5d8926",
   "metadata": {},
   "outputs": [
    {
     "data": {
      "text/plain": [
       "Country\n",
       "Russia            144713314\n",
       "Germany            83369843\n",
       "United Kingdom     67508936\n",
       "France             64626628\n",
       "Italy              59037474\n",
       "Name: 2022 Population, dtype: int64"
      ]
     },
     "execution_count": 41,
     "metadata": {},
     "output_type": "execute_result"
    }
   ],
   "source": [
    "topFive('Europe')"
   ]
  },
  {
   "cell_type": "code",
   "execution_count": 42,
   "id": "d608f036",
   "metadata": {},
   "outputs": [
    {
     "data": {
      "text/plain": [
       "Country\n",
       "Brazil       215313498\n",
       "Colombia      51874024\n",
       "Argentina     45510318\n",
       "Peru          34049588\n",
       "Venezuela     28301696\n",
       "Name: 2022 Population, dtype: int64"
      ]
     },
     "execution_count": 42,
     "metadata": {},
     "output_type": "execute_result"
    }
   ],
   "source": [
    "topFive('South America')"
   ]
  },
  {
   "cell_type": "code",
   "execution_count": 43,
   "id": "1b39e240",
   "metadata": {},
   "outputs": [
    {
     "data": {
      "text/plain": [
       "Country\n",
       "United States    338289857\n",
       "Mexico           127504125\n",
       "Canada            38454327\n",
       "Guatemala         17843908\n",
       "Haiti             11584996\n",
       "Name: 2022 Population, dtype: int64"
      ]
     },
     "execution_count": 43,
     "metadata": {},
     "output_type": "execute_result"
    }
   ],
   "source": [
    "topFive('North America')"
   ]
  },
  {
   "cell_type": "code",
   "execution_count": 44,
   "id": "8b6059bd",
   "metadata": {},
   "outputs": [
    {
     "data": {
      "text/plain": [
       "Country\n",
       "Nigeria     218541212\n",
       "Ethiopia    123379924\n",
       "Egypt       110990103\n",
       "DR Congo     99010212\n",
       "Tanzania     65497748\n",
       "Name: 2022 Population, dtype: int64"
      ]
     },
     "execution_count": 44,
     "metadata": {},
     "output_type": "execute_result"
    }
   ],
   "source": [
    "topFive('Africa')"
   ]
  },
  {
   "cell_type": "markdown",
   "id": "209e2e4c",
   "metadata": {},
   "source": [
    "## Bottom 5 countries from continent "
   ]
  },
  {
   "cell_type": "code",
   "execution_count": 45,
   "id": "e9e93f0f",
   "metadata": {},
   "outputs": [],
   "source": [
    "def bottomFive(Continent):\n",
    "    cont = data[data['Continent'] == Continent]\n",
    "    return cont.groupby('Country')['2020 Population'].sum().sort_values(ascending = True).head()"
   ]
  },
  {
   "cell_type": "code",
   "execution_count": 46,
   "id": "244d2976",
   "metadata": {},
   "outputs": [
    {
     "data": {
      "text/plain": [
       "Country\n",
       "Seychelles               105530\n",
       "Sao Tome and Principe    218641\n",
       "Mayotte                  305587\n",
       "Western Sahara           556048\n",
       "Cape Verde               582640\n",
       "Name: 2020 Population, dtype: int64"
      ]
     },
     "execution_count": 46,
     "metadata": {},
     "output_type": "execute_result"
    }
   ],
   "source": [
    "bottomFive('Africa')"
   ]
  },
  {
   "cell_type": "code",
   "execution_count": 47,
   "id": "e86d9d00",
   "metadata": {},
   "outputs": [
    {
     "data": {
      "text/plain": [
       "Country\n",
       "Vatican City       520\n",
       "Gibraltar        32709\n",
       "San Marino       34007\n",
       "Monaco           36922\n",
       "Liechtenstein    38756\n",
       "Name: 2020 Population, dtype: int64"
      ]
     },
     "execution_count": 47,
     "metadata": {},
     "output_type": "execute_result"
    }
   ],
   "source": [
    "bottomFive('Europe')"
   ]
  },
  {
   "cell_type": "code",
   "execution_count": 48,
   "id": "939b4027",
   "metadata": {},
   "outputs": [
    {
     "data": {
      "text/plain": [
       "Country\n",
       "Falkland Islands       3747\n",
       "French Guiana        290969\n",
       "Suriname             607065\n",
       "Guyana               797202\n",
       "Uruguay             3429086\n",
       "Name: 2020 Population, dtype: int64"
      ]
     },
     "execution_count": 48,
     "metadata": {},
     "output_type": "execute_result"
    }
   ],
   "source": [
    "bottomFive('South America')"
   ]
  },
  {
   "cell_type": "code",
   "execution_count": 49,
   "id": "f4f91f99",
   "metadata": {},
   "outputs": [
    {
     "data": {
      "text/plain": [
       "Country\n",
       "Brunei          441725\n",
       "Maldives        514438\n",
       "Macau           676283\n",
       "Bhutan          772506\n",
       "Timor-Leste    1299995\n",
       "Name: 2020 Population, dtype: int64"
      ]
     },
     "execution_count": 49,
     "metadata": {},
     "output_type": "execute_result"
    }
   ],
   "source": [
    "bottomFive('Asia')"
   ]
  },
  {
   "cell_type": "code",
   "execution_count": 50,
   "id": "7e2f7338",
   "metadata": {},
   "outputs": [
    {
     "data": {
      "text/plain": [
       "Country\n",
       "Montserrat                    4500\n",
       "Saint Pierre and Miquelon     5906\n",
       "Saint Barthelemy             10681\n",
       "Anguilla                     15585\n",
       "British Virgin Islands       30910\n",
       "Name: 2020 Population, dtype: int64"
      ]
     },
     "execution_count": 50,
     "metadata": {},
     "output_type": "execute_result"
    }
   ],
   "source": [
    "bottomFive('North America')"
   ]
  },
  {
   "cell_type": "markdown",
   "id": "a7b8faea",
   "metadata": {},
   "source": [
    "## Top 10 Growth rate country"
   ]
  },
  {
   "cell_type": "code",
   "execution_count": 51,
   "id": "fa34d61a",
   "metadata": {},
   "outputs": [
    {
     "data": {
      "text/html": [
       "<div>\n",
       "<style scoped>\n",
       "    .dataframe tbody tr th:only-of-type {\n",
       "        vertical-align: middle;\n",
       "    }\n",
       "\n",
       "    .dataframe tbody tr th {\n",
       "        vertical-align: top;\n",
       "    }\n",
       "\n",
       "    .dataframe thead th {\n",
       "        text-align: right;\n",
       "    }\n",
       "</style>\n",
       "<table border=\"1\" class=\"dataframe\">\n",
       "  <thead>\n",
       "    <tr style=\"text-align: right;\">\n",
       "      <th></th>\n",
       "      <th>Rank</th>\n",
       "      <th>CCA3</th>\n",
       "      <th>Country</th>\n",
       "      <th>Capital</th>\n",
       "      <th>Continent</th>\n",
       "      <th>2022 Population</th>\n",
       "      <th>2020 Population</th>\n",
       "      <th>2015 Population</th>\n",
       "      <th>2010 Population</th>\n",
       "      <th>2000 Population</th>\n",
       "      <th>1990 Population</th>\n",
       "      <th>1980 Population</th>\n",
       "      <th>1970 Population</th>\n",
       "      <th>Area (km²)</th>\n",
       "      <th>Density (per km²)</th>\n",
       "      <th>Growth Rate</th>\n",
       "      <th>World Population Percentage</th>\n",
       "    </tr>\n",
       "  </thead>\n",
       "  <tbody>\n",
       "    <tr>\n",
       "      <th>133</th>\n",
       "      <td>135</td>\n",
       "      <td>MDA</td>\n",
       "      <td>Moldova</td>\n",
       "      <td>Chisinau</td>\n",
       "      <td>Europe</td>\n",
       "      <td>3272996</td>\n",
       "      <td>3084847</td>\n",
       "      <td>3277388</td>\n",
       "      <td>3678186</td>\n",
       "      <td>4251573</td>\n",
       "      <td>4480199</td>\n",
       "      <td>4103240</td>\n",
       "      <td>3711140</td>\n",
       "      <td>33846</td>\n",
       "      <td>96.7026</td>\n",
       "      <td>1.0691</td>\n",
       "      <td>0.04</td>\n",
       "    </tr>\n",
       "    <tr>\n",
       "      <th>164</th>\n",
       "      <td>37</td>\n",
       "      <td>POL</td>\n",
       "      <td>Poland</td>\n",
       "      <td>Warsaw</td>\n",
       "      <td>Europe</td>\n",
       "      <td>39857145</td>\n",
       "      <td>38428366</td>\n",
       "      <td>38553146</td>\n",
       "      <td>38597353</td>\n",
       "      <td>38504431</td>\n",
       "      <td>38064255</td>\n",
       "      <td>35521429</td>\n",
       "      <td>32482943</td>\n",
       "      <td>312679</td>\n",
       "      <td>127.4698</td>\n",
       "      <td>1.0404</td>\n",
       "      <td>0.50</td>\n",
       "    </tr>\n",
       "    <tr>\n",
       "      <th>148</th>\n",
       "      <td>54</td>\n",
       "      <td>NER</td>\n",
       "      <td>Niger</td>\n",
       "      <td>Niamey</td>\n",
       "      <td>Africa</td>\n",
       "      <td>26207977</td>\n",
       "      <td>24333639</td>\n",
       "      <td>20128124</td>\n",
       "      <td>16647543</td>\n",
       "      <td>11622665</td>\n",
       "      <td>8370647</td>\n",
       "      <td>6173177</td>\n",
       "      <td>4669708</td>\n",
       "      <td>1267000</td>\n",
       "      <td>20.6851</td>\n",
       "      <td>1.0378</td>\n",
       "      <td>0.33</td>\n",
       "    </tr>\n",
       "    <tr>\n",
       "      <th>202</th>\n",
       "      <td>60</td>\n",
       "      <td>SYR</td>\n",
       "      <td>Syria</td>\n",
       "      <td>Damascus</td>\n",
       "      <td>Asia</td>\n",
       "      <td>22125249</td>\n",
       "      <td>20772595</td>\n",
       "      <td>19205178</td>\n",
       "      <td>22337563</td>\n",
       "      <td>16307654</td>\n",
       "      <td>12408996</td>\n",
       "      <td>8898954</td>\n",
       "      <td>6319199</td>\n",
       "      <td>185180</td>\n",
       "      <td>119.4797</td>\n",
       "      <td>1.0376</td>\n",
       "      <td>0.28</td>\n",
       "    </tr>\n",
       "    <tr>\n",
       "      <th>189</th>\n",
       "      <td>116</td>\n",
       "      <td>SVK</td>\n",
       "      <td>Slovakia</td>\n",
       "      <td>Bratislava</td>\n",
       "      <td>Europe</td>\n",
       "      <td>5643453</td>\n",
       "      <td>5456681</td>\n",
       "      <td>5424444</td>\n",
       "      <td>5396424</td>\n",
       "      <td>5376690</td>\n",
       "      <td>5261305</td>\n",
       "      <td>4973883</td>\n",
       "      <td>4522867</td>\n",
       "      <td>49037</td>\n",
       "      <td>115.0856</td>\n",
       "      <td>1.0359</td>\n",
       "      <td>0.07</td>\n",
       "    </tr>\n",
       "    <tr>\n",
       "      <th>55</th>\n",
       "      <td>15</td>\n",
       "      <td>COD</td>\n",
       "      <td>DR Congo</td>\n",
       "      <td>Kinshasa</td>\n",
       "      <td>Africa</td>\n",
       "      <td>99010212</td>\n",
       "      <td>92853164</td>\n",
       "      <td>78656904</td>\n",
       "      <td>66391257</td>\n",
       "      <td>48616317</td>\n",
       "      <td>35987541</td>\n",
       "      <td>26708686</td>\n",
       "      <td>20151733</td>\n",
       "      <td>2344858</td>\n",
       "      <td>42.2244</td>\n",
       "      <td>1.0325</td>\n",
       "      <td>1.24</td>\n",
       "    </tr>\n",
       "    <tr>\n",
       "      <th>130</th>\n",
       "      <td>182</td>\n",
       "      <td>MYT</td>\n",
       "      <td>Mayotte</td>\n",
       "      <td>Mamoudzou</td>\n",
       "      <td>Africa</td>\n",
       "      <td>326101</td>\n",
       "      <td>305587</td>\n",
       "      <td>249545</td>\n",
       "      <td>211786</td>\n",
       "      <td>159215</td>\n",
       "      <td>92659</td>\n",
       "      <td>52233</td>\n",
       "      <td>35383</td>\n",
       "      <td>374</td>\n",
       "      <td>871.9278</td>\n",
       "      <td>1.0319</td>\n",
       "      <td>0.00</td>\n",
       "    </tr>\n",
       "    <tr>\n",
       "      <th>39</th>\n",
       "      <td>69</td>\n",
       "      <td>TCD</td>\n",
       "      <td>Chad</td>\n",
       "      <td>N'Djamena</td>\n",
       "      <td>Africa</td>\n",
       "      <td>17723315</td>\n",
       "      <td>16644701</td>\n",
       "      <td>14140274</td>\n",
       "      <td>11894727</td>\n",
       "      <td>8259137</td>\n",
       "      <td>5827069</td>\n",
       "      <td>4408230</td>\n",
       "      <td>3667394</td>\n",
       "      <td>1284000</td>\n",
       "      <td>13.8032</td>\n",
       "      <td>1.0316</td>\n",
       "      <td>0.22</td>\n",
       "    </tr>\n",
       "    <tr>\n",
       "      <th>5</th>\n",
       "      <td>42</td>\n",
       "      <td>AGO</td>\n",
       "      <td>Angola</td>\n",
       "      <td>Luanda</td>\n",
       "      <td>Africa</td>\n",
       "      <td>35588987</td>\n",
       "      <td>33428485</td>\n",
       "      <td>28127721</td>\n",
       "      <td>23364185</td>\n",
       "      <td>16394062</td>\n",
       "      <td>11828638</td>\n",
       "      <td>8330047</td>\n",
       "      <td>6029700</td>\n",
       "      <td>1246700</td>\n",
       "      <td>28.5466</td>\n",
       "      <td>1.0315</td>\n",
       "      <td>0.45</td>\n",
       "    </tr>\n",
       "    <tr>\n",
       "      <th>124</th>\n",
       "      <td>59</td>\n",
       "      <td>MLI</td>\n",
       "      <td>Mali</td>\n",
       "      <td>Bamako</td>\n",
       "      <td>Africa</td>\n",
       "      <td>22593590</td>\n",
       "      <td>21224040</td>\n",
       "      <td>18112907</td>\n",
       "      <td>15529181</td>\n",
       "      <td>11239101</td>\n",
       "      <td>8945026</td>\n",
       "      <td>7372581</td>\n",
       "      <td>6153587</td>\n",
       "      <td>1240192</td>\n",
       "      <td>18.2178</td>\n",
       "      <td>1.0314</td>\n",
       "      <td>0.28</td>\n",
       "    </tr>\n",
       "  </tbody>\n",
       "</table>\n",
       "</div>"
      ],
      "text/plain": [
       "     Rank CCA3   Country     Capital Continent  2022 Population  \\\n",
       "133   135  MDA   Moldova    Chisinau    Europe          3272996   \n",
       "164    37  POL    Poland      Warsaw    Europe         39857145   \n",
       "148    54  NER     Niger      Niamey    Africa         26207977   \n",
       "202    60  SYR     Syria    Damascus      Asia         22125249   \n",
       "189   116  SVK  Slovakia  Bratislava    Europe          5643453   \n",
       "55     15  COD  DR Congo    Kinshasa    Africa         99010212   \n",
       "130   182  MYT   Mayotte   Mamoudzou    Africa           326101   \n",
       "39     69  TCD      Chad   N'Djamena    Africa         17723315   \n",
       "5      42  AGO    Angola      Luanda    Africa         35588987   \n",
       "124    59  MLI      Mali      Bamako    Africa         22593590   \n",
       "\n",
       "     2020 Population  2015 Population  2010 Population  2000 Population  \\\n",
       "133          3084847          3277388          3678186          4251573   \n",
       "164         38428366         38553146         38597353         38504431   \n",
       "148         24333639         20128124         16647543         11622665   \n",
       "202         20772595         19205178         22337563         16307654   \n",
       "189          5456681          5424444          5396424          5376690   \n",
       "55          92853164         78656904         66391257         48616317   \n",
       "130           305587           249545           211786           159215   \n",
       "39          16644701         14140274         11894727          8259137   \n",
       "5           33428485         28127721         23364185         16394062   \n",
       "124         21224040         18112907         15529181         11239101   \n",
       "\n",
       "     1990 Population  1980 Population  1970 Population  Area (km²)  \\\n",
       "133          4480199          4103240          3711140       33846   \n",
       "164         38064255         35521429         32482943      312679   \n",
       "148          8370647          6173177          4669708     1267000   \n",
       "202         12408996          8898954          6319199      185180   \n",
       "189          5261305          4973883          4522867       49037   \n",
       "55          35987541         26708686         20151733     2344858   \n",
       "130            92659            52233            35383         374   \n",
       "39           5827069          4408230          3667394     1284000   \n",
       "5           11828638          8330047          6029700     1246700   \n",
       "124          8945026          7372581          6153587     1240192   \n",
       "\n",
       "     Density (per km²)  Growth Rate  World Population Percentage  \n",
       "133            96.7026       1.0691                         0.04  \n",
       "164           127.4698       1.0404                         0.50  \n",
       "148            20.6851       1.0378                         0.33  \n",
       "202           119.4797       1.0376                         0.28  \n",
       "189           115.0856       1.0359                         0.07  \n",
       "55             42.2244       1.0325                         1.24  \n",
       "130           871.9278       1.0319                         0.00  \n",
       "39             13.8032       1.0316                         0.22  \n",
       "5              28.5466       1.0315                         0.45  \n",
       "124            18.2178       1.0314                         0.28  "
      ]
     },
     "execution_count": 51,
     "metadata": {},
     "output_type": "execute_result"
    }
   ],
   "source": [
    "data.sort_values(by = 'Growth Rate', ascending = False).head(10)"
   ]
  },
  {
   "cell_type": "code",
   "execution_count": 52,
   "id": "e0fbaf26",
   "metadata": {},
   "outputs": [
    {
     "data": {
      "text/html": [
       "<div>\n",
       "<style scoped>\n",
       "    .dataframe tbody tr th:only-of-type {\n",
       "        vertical-align: middle;\n",
       "    }\n",
       "\n",
       "    .dataframe tbody tr th {\n",
       "        vertical-align: top;\n",
       "    }\n",
       "\n",
       "    .dataframe thead th {\n",
       "        text-align: right;\n",
       "    }\n",
       "</style>\n",
       "<table border=\"1\" class=\"dataframe\">\n",
       "  <thead>\n",
       "    <tr style=\"text-align: right;\">\n",
       "      <th></th>\n",
       "      <th>Country</th>\n",
       "      <th>2022 Population</th>\n",
       "    </tr>\n",
       "  </thead>\n",
       "  <tbody>\n",
       "    <tr>\n",
       "      <th>0</th>\n",
       "      <td>China</td>\n",
       "      <td>1425887337</td>\n",
       "    </tr>\n",
       "    <tr>\n",
       "      <th>1</th>\n",
       "      <td>India</td>\n",
       "      <td>1417173173</td>\n",
       "    </tr>\n",
       "    <tr>\n",
       "      <th>2</th>\n",
       "      <td>United States</td>\n",
       "      <td>338289857</td>\n",
       "    </tr>\n",
       "    <tr>\n",
       "      <th>3</th>\n",
       "      <td>Indonesia</td>\n",
       "      <td>275501339</td>\n",
       "    </tr>\n",
       "    <tr>\n",
       "      <th>4</th>\n",
       "      <td>Pakistan</td>\n",
       "      <td>235824862</td>\n",
       "    </tr>\n",
       "    <tr>\n",
       "      <th>5</th>\n",
       "      <td>Nigeria</td>\n",
       "      <td>218541212</td>\n",
       "    </tr>\n",
       "    <tr>\n",
       "      <th>6</th>\n",
       "      <td>Brazil</td>\n",
       "      <td>215313498</td>\n",
       "    </tr>\n",
       "    <tr>\n",
       "      <th>7</th>\n",
       "      <td>Bangladesh</td>\n",
       "      <td>171186372</td>\n",
       "    </tr>\n",
       "    <tr>\n",
       "      <th>8</th>\n",
       "      <td>Russia</td>\n",
       "      <td>144713314</td>\n",
       "    </tr>\n",
       "    <tr>\n",
       "      <th>9</th>\n",
       "      <td>Mexico</td>\n",
       "      <td>127504125</td>\n",
       "    </tr>\n",
       "  </tbody>\n",
       "</table>\n",
       "</div>"
      ],
      "text/plain": [
       "         Country  2022 Population\n",
       "0          China       1425887337\n",
       "1          India       1417173173\n",
       "2  United States        338289857\n",
       "3      Indonesia        275501339\n",
       "4       Pakistan        235824862\n",
       "5        Nigeria        218541212\n",
       "6         Brazil        215313498\n",
       "7     Bangladesh        171186372\n",
       "8         Russia        144713314\n",
       "9         Mexico        127504125"
      ]
     },
     "execution_count": 52,
     "metadata": {},
     "output_type": "execute_result"
    }
   ],
   "source": [
    "topTen = data.groupby('Country')['2022 Population'].sum().sort_values(ascending = False).head(10).reset_index()  \n",
    "topTen"
   ]
  },
  {
   "cell_type": "markdown",
   "id": "e9595c76",
   "metadata": {},
   "source": [
    "## Least Growth Rate Country"
   ]
  },
  {
   "cell_type": "code",
   "execution_count": 53,
   "id": "56e527c4",
   "metadata": {},
   "outputs": [
    {
     "data": {
      "text/html": [
       "<div>\n",
       "<style scoped>\n",
       "    .dataframe tbody tr th:only-of-type {\n",
       "        vertical-align: middle;\n",
       "    }\n",
       "\n",
       "    .dataframe tbody tr th {\n",
       "        vertical-align: top;\n",
       "    }\n",
       "\n",
       "    .dataframe thead th {\n",
       "        text-align: right;\n",
       "    }\n",
       "</style>\n",
       "<table border=\"1\" class=\"dataframe\">\n",
       "  <thead>\n",
       "    <tr style=\"text-align: right;\">\n",
       "      <th></th>\n",
       "      <th>Country</th>\n",
       "      <th>2022 Population</th>\n",
       "    </tr>\n",
       "  </thead>\n",
       "  <tbody>\n",
       "    <tr>\n",
       "      <th>0</th>\n",
       "      <td>Vatican City</td>\n",
       "      <td>510</td>\n",
       "    </tr>\n",
       "    <tr>\n",
       "      <th>1</th>\n",
       "      <td>Tokelau</td>\n",
       "      <td>1871</td>\n",
       "    </tr>\n",
       "    <tr>\n",
       "      <th>2</th>\n",
       "      <td>Niue</td>\n",
       "      <td>1934</td>\n",
       "    </tr>\n",
       "    <tr>\n",
       "      <th>3</th>\n",
       "      <td>Falkland Islands</td>\n",
       "      <td>3780</td>\n",
       "    </tr>\n",
       "    <tr>\n",
       "      <th>4</th>\n",
       "      <td>Montserrat</td>\n",
       "      <td>4390</td>\n",
       "    </tr>\n",
       "    <tr>\n",
       "      <th>5</th>\n",
       "      <td>Saint Pierre and Miquelon</td>\n",
       "      <td>5862</td>\n",
       "    </tr>\n",
       "    <tr>\n",
       "      <th>6</th>\n",
       "      <td>Saint Barthelemy</td>\n",
       "      <td>10967</td>\n",
       "    </tr>\n",
       "    <tr>\n",
       "      <th>7</th>\n",
       "      <td>Tuvalu</td>\n",
       "      <td>11312</td>\n",
       "    </tr>\n",
       "    <tr>\n",
       "      <th>8</th>\n",
       "      <td>Wallis and Futuna</td>\n",
       "      <td>11572</td>\n",
       "    </tr>\n",
       "    <tr>\n",
       "      <th>9</th>\n",
       "      <td>Nauru</td>\n",
       "      <td>12668</td>\n",
       "    </tr>\n",
       "  </tbody>\n",
       "</table>\n",
       "</div>"
      ],
      "text/plain": [
       "                     Country  2022 Population\n",
       "0               Vatican City              510\n",
       "1                    Tokelau             1871\n",
       "2                       Niue             1934\n",
       "3           Falkland Islands             3780\n",
       "4                 Montserrat             4390\n",
       "5  Saint Pierre and Miquelon             5862\n",
       "6           Saint Barthelemy            10967\n",
       "7                     Tuvalu            11312\n",
       "8          Wallis and Futuna            11572\n",
       "9                      Nauru            12668"
      ]
     },
     "execution_count": 53,
     "metadata": {},
     "output_type": "execute_result"
    }
   ],
   "source": [
    "leastTen = data.groupby('Country')['2022 Population'].sum().sort_values(ascending = True).head(10).reset_index()  \n",
    "leastTen"
   ]
  },
  {
   "cell_type": "markdown",
   "id": "7c775a3e",
   "metadata": {},
   "source": [
    "#### Finding the growth rate by each continents "
   ]
  },
  {
   "cell_type": "code",
   "execution_count": 55,
   "id": "19c89def",
   "metadata": {},
   "outputs": [],
   "source": [
    "growthRate = data.groupby('Continent')['Growth Rate'].sum().reset_index()\n",
    "totalGrowthRate = data['Growth Rate'].sum()\n",
    "growthRate['Per Growth Rate'] = round(growthRate['Growth Rate']/totalGrowthRate*100,2)"
   ]
  },
  {
   "cell_type": "code",
   "execution_count": 56,
   "id": "365bdb3c",
   "metadata": {},
   "outputs": [
    {
     "data": {
      "text/html": [
       "<div>\n",
       "<style scoped>\n",
       "    .dataframe tbody tr th:only-of-type {\n",
       "        vertical-align: middle;\n",
       "    }\n",
       "\n",
       "    .dataframe tbody tr th {\n",
       "        vertical-align: top;\n",
       "    }\n",
       "\n",
       "    .dataframe thead th {\n",
       "        text-align: right;\n",
       "    }\n",
       "</style>\n",
       "<table border=\"1\" class=\"dataframe\">\n",
       "  <thead>\n",
       "    <tr style=\"text-align: right;\">\n",
       "      <th></th>\n",
       "      <th>Continent</th>\n",
       "      <th>Growth Rate</th>\n",
       "      <th>Per Growth Rate</th>\n",
       "    </tr>\n",
       "  </thead>\n",
       "  <tbody>\n",
       "    <tr>\n",
       "      <th>0</th>\n",
       "      <td>Africa</td>\n",
       "      <td>58.2109</td>\n",
       "      <td>24.64</td>\n",
       "    </tr>\n",
       "    <tr>\n",
       "      <th>1</th>\n",
       "      <td>Asia</td>\n",
       "      <td>50.4692</td>\n",
       "      <td>21.36</td>\n",
       "    </tr>\n",
       "    <tr>\n",
       "      <th>2</th>\n",
       "      <td>Europe</td>\n",
       "      <td>50.1128</td>\n",
       "      <td>21.21</td>\n",
       "    </tr>\n",
       "    <tr>\n",
       "      <th>3</th>\n",
       "      <td>North America</td>\n",
       "      <td>40.1670</td>\n",
       "      <td>17.00</td>\n",
       "    </tr>\n",
       "    <tr>\n",
       "      <th>4</th>\n",
       "      <td>Oceania</td>\n",
       "      <td>23.1698</td>\n",
       "      <td>9.81</td>\n",
       "    </tr>\n",
       "    <tr>\n",
       "      <th>5</th>\n",
       "      <td>South America</td>\n",
       "      <td>14.1114</td>\n",
       "      <td>5.97</td>\n",
       "    </tr>\n",
       "  </tbody>\n",
       "</table>\n",
       "</div>"
      ],
      "text/plain": [
       "       Continent  Growth Rate  Per Growth Rate\n",
       "0         Africa      58.2109            24.64\n",
       "1           Asia      50.4692            21.36\n",
       "2         Europe      50.1128            21.21\n",
       "3  North America      40.1670            17.00\n",
       "4        Oceania      23.1698             9.81\n",
       "5  South America      14.1114             5.97"
      ]
     },
     "execution_count": 56,
     "metadata": {},
     "output_type": "execute_result"
    }
   ],
   "source": [
    "growthRate"
   ]
  },
  {
   "cell_type": "markdown",
   "id": "e96d7174",
   "metadata": {},
   "source": [
    "## COUNTRY VS AREA"
   ]
  },
  {
   "cell_type": "code",
   "execution_count": 57,
   "id": "e63a6c0f",
   "metadata": {},
   "outputs": [
    {
     "data": {
      "image/png": "[encoded data removed]",
      "text/plain": [
       "<Figure size 432x288 with 1 Axes>"
      ]
     },
     "metadata": {},
     "output_type": "display_data"
    }
   ],
   "source": [
    "population_2022=data.sort_values(by=\"Area (km²)\",ascending=False).head()\n",
    "x=population_2022[\"Country\"]\n",
    "y=population_2022[\"Area (km²)\"]\n",
    "plt.pie(y,labels=x,autopct='%1.1f%%')\n",
    "plt.show()"
   ]
  },
  {
   "cell_type": "markdown",
   "id": "1e25e2e5",
   "metadata": {},
   "source": [
    "Russia is the top countries according to the area which occupies 23.2%"
   ]
  },
  {
   "cell_type": "markdown",
   "id": "84434012",
   "metadata": {},
   "source": [
    "## COUNTRY VS GROWTH RATE "
   ]
  },
  {
   "cell_type": "code",
   "execution_count": 58,
   "id": "f3a8c539",
   "metadata": {},
   "outputs": [
    {
     "data": {
      "image/png": "[encoded data removed]",
      "text/plain": [
       "<Figure size 432x288 with 1 Axes>"
      ]
     },
     "metadata": {},
     "output_type": "display_data"
    }
   ],
   "source": [
    "population_2022=data.sort_values(by=\"Growth Rate\",ascending=True).head()\n",
    "x=population_2022[\"Country\"]\n",
    "y=population_2022[\"Growth Rate\"]\n",
    "plt.pie(y,labels=x,autopct='%1.1f%%')\n",
    "plt.show()"
   ]
  },
  {
   "cell_type": "code",
   "execution_count": 59,
   "id": "168ea7f5",
   "metadata": {},
   "outputs": [
    {
     "data": {
      "text/plain": [
       "count    234.000000\n",
       "mean       1.009577\n",
       "std        0.013385\n",
       "min        0.912000\n",
       "25%        1.001775\n",
       "50%        1.007900\n",
       "75%        1.016950\n",
       "max        1.069100\n",
       "Name: Growth Rate, dtype: float64"
      ]
     },
     "execution_count": 59,
     "metadata": {},
     "output_type": "execute_result"
    }
   ],
   "source": [
    "data[\"Growth Rate\"].describe()"
   ]
  },
  {
   "cell_type": "markdown",
   "id": "a8dc14cb",
   "metadata": {},
   "source": [
    "### COUNTRY VS WORLD POPULATION PERCENTAGE "
   ]
  },
  {
   "cell_type": "code",
   "execution_count": 60,
   "id": "d8626325",
   "metadata": {},
   "outputs": [
    {
     "data": {
      "image/png": "[encoded data removed]",
      "text/plain": [
       "<Figure size 432x288 with 1 Axes>"
      ]
     },
     "metadata": {},
     "output_type": "display_data"
    }
   ],
   "source": [
    "population_2022=data.sort_values(by=\"World Population Percentage\",ascending=False).head()\n",
    "x=population_2022[\"Country\"]\n",
    "y=population_2022[\"World Population Percentage\"]\n",
    "plt.pie(y,labels=x,autopct='%1.1f%%')\n",
    "plt.show()"
   ]
  },
  {
   "cell_type": "code",
   "execution_count": null,
   "id": "bbcae324",
   "metadata": {},
   "outputs": [],
   "source": []
  }
 ],
 "metadata": {
  "kernelspec": {
   "display_name": "Python 3 (ipykernel)",
   "language": "python",
   "name": "python3"
  },
  "language_info": {
   "codemirror_mode": {
    "name": "ipython",
    "version": 3
   },
   "file_extension": ".py",
   "mimetype": "text/x-python",
   "name": "python",
   "nbconvert_exporter": "python",
   "pygments_lexer": "ipython3",
   "version": "3.9.7"
  }
 },
 "nbformat": 4,
 "nbformat_minor": 5
}
